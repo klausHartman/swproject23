{
 "cells": [
  {
   "cell_type": "markdown",
   "metadata": {},
   "source": [
    "# Bio Embeddings for Shallow Learners\n",
    "1) Choose a VOG\n",
    "2) Choose and create bio embedding algorithm: SeqVec, ProtTrans \n",
    "    - Input: VOG specific .fasta file\n",
    "    - Store sequences as objects in a list\n",
    "    - Create embedder object and then a protein- or aminoacid-embedding\n",
    "    - Output: Vector of sequences represented/embedded as points in a multidimensional (feature-) space (vector of vectors). The embeddings harbor a constant number of features, in contrast to the previous state, where protein sequences had different lengths. So the VOG has now this embedding matrix as a profile.\n",
    "\n",
    "**Links:**\n",
    "- [SeqVec Repository](https://github.com/Rostlab/SeqVec)\n",
    "    - [SeqVec Source-Code](https://github.com/Rostlab/SeqVec/blob/master/seqvec/seqvec.py)\n",
    "- [ProtTrans Respository](https://github.com/agemagician/ProtTrans)\n",
    "- [Embedder Benchmark Paper](https://www.mdpi.com/1422-0067/24/4/3775)\n",
    "    "
   ]
  },
  {
   "cell_type": "markdown",
   "metadata": {},
   "source": [
    "## o) Install and Load Libraries"
   ]
  },
  {
   "cell_type": "code",
   "execution_count": null,
   "metadata": {},
   "outputs": [],
   "source": [
    "# !pip install seqvec"
   ]
  },
  {
   "cell_type": "code",
   "execution_count": null,
   "metadata": {},
   "outputs": [],
   "source": [
    "import numpy as np\n",
    "import pandas as pd\n",
    "import matplotlib.pyplot as plt\n",
    "import h5py\n",
    "from Bio import SeqIO\n",
    "from bio_embeddings.embed import ProtTransBertBFDEmbedder\n",
    "from bio_embeddings.embed.seqvec_embedder import SeqVecEmbedder\n",
    "from bio_embeddings.project import tsne_reduce\n",
    "from bio_embeddings.visualize import render_3D_scatter_plotly\n"
   ]
  },
  {
   "cell_type": "markdown",
   "metadata": {},
   "source": [
    "## o) Generate Embedding: SeqVec\n",
    "### Input: .fasta file | Output: array of embedding vectors"
   ]
  },
  {
   "cell_type": "code",
   "execution_count": null,
   "metadata": {},
   "outputs": [],
   "source": [
    "# filepath = \"BE_testing/tiny_sampled.fasta\"\n",
    "# # !seqvec -i $filepath -o embeddings.npz\n",
    "# !seqvec -i $filepath -o embeddings.npz --split-char ' ' --id 0\n"
   ]
  },
  {
   "cell_type": "markdown",
   "metadata": {},
   "source": [
    "## o) Generate Bio-Embeddings (in progress)\n",
    "see <embed_fasta_sequences.ipynb>"
   ]
  },
  {
   "cell_type": "code",
   "execution_count": null,
   "metadata": {},
   "outputs": [],
   "source": [
    "# # Create (download) testing fasta file (tiny_sampled.fasta)\n",
    "# !wget http://data.bioembeddings.com/public/embeddings/notebooks/custom_data/tiny_sampled.fasta --output-document BE_testing/tiny_sampled.fasta"
   ]
  },
  {
   "cell_type": "code",
   "execution_count": null,
   "metadata": {},
   "outputs": [],
   "source": [
    "# Extract sequences from fasta file and store them as a list\n",
    "filepath = \"BE_testing/tiny_sampled.fasta\"\n",
    "# filepath = \"BE_testing/VOG1_trial2/VOG00001.faa\"\n",
    "sequences = []\n",
    "for record in SeqIO.parse(filepath, \"fasta\"):\n",
    "    sequences.append(record)\n",
    "\n",
    "# Sanity-check (First 3 and last 3 sequences)\n",
    "print(f\"Member-ID     Identifier\\t\\tLength\\t    Sequence\\n\")\n",
    "for i,s in enumerate(sequences[:3]): # s:SeqIO-object\n",
    "    print(f\"Protein {i+1:<6}{(s.id):<28}{len(s.seq):<10}{s.seq}\") # :<6 for proper output alignment\n",
    "print(\". . .\")\n",
    "for i,s in enumerate(sequences[-3:], start=len(sequences)-2):\n",
    "    print(f\"Protein {i+1:<6}{(s.id):<28}{len(s.seq):<10}{s.seq}\")\n"
   ]
  },
  {
   "cell_type": "code",
   "execution_count": null,
   "metadata": {},
   "outputs": [],
   "source": [
    "# Generate Embedder Object\n",
    "embedder = ProtTransBertBFDEmbedder()\n",
    "# embedder = SeqVecEmbedder()"
   ]
  },
  {
   "cell_type": "code",
   "execution_count": null,
   "metadata": {},
   "outputs": [],
   "source": [
    "# Compute Amino Acid Level Embedding (takes quiet some time)\n",
    "aa_embeddings = embedder.embed_many([str(s.seq) for s in sequences])\n",
    "# `embed_many` returns a generator.\n",
    "# We want to keep both RAW embeddings and reduced embeddings in memory.\n",
    "# To do so, we simply turn the generator into a list!\n",
    "# (this will start embedding the sequences!)\n",
    "# Needs certain amount of GPU RAM, if not sufficient CPU is used (slower)\n",
    "aa_embeddings = list(aa_embeddings)"
   ]
  },
  {
   "cell_type": "markdown",
   "metadata": {},
   "source": [
    "sm_86 pytorch compatibility issue:\n",
    "- wrong pytorch version prevented using the GPU for the following embedding computation.\n",
    "- solved: conda install pytorch==1.10.0 torchvision==0.11.0 torchaudio==0.10.0 cudatoolkit=11.3 -c pytorch -c conda-forge\n",
    "\n",
    "About SeqVec:\n",
    "- https://github.com/Rostlab/SeqVec/blob/master/README.md : \"All results built upon the embeddings gained from the new tool SeqVec neither explicitly nor implicitly using evolutionary information. Nevertheless, it improved over some methods using such information. Where the lightning-fast HHblits needed on average about two minutes to generate the evolutionary information for a target protein, SeqVec created the vector representation on average in 0.03 seconds.\"\n",
    "- Directory: - \\\\wsl.localhost\\Ubuntu\\home\\dinglemittens\\anaconda3\\envs\\SPEnv38\\lib\\python3.8\\site-packages\\bio_embeddings\\embed\n"
   ]
  },
  {
   "cell_type": "markdown",
   "metadata": {},
   "source": [
    "Trouble with Speed:\n",
    "- Managed to install the proper pytorch version such that the embedder does not have to use the CPU, but it still took (too?) long. Interrupted after 77min for SeqVecEmbedder(). Interruption after 40 min for ProtTransBertBFDEmbedder().\n",
    "- For the tiny_sampled.fasta file which harbors 12 sequences of a total length of 3682 aminoacids, the embedding run took 43 seconds, which are ~5k aminoacids per minute."
   ]
  },
  {
   "cell_type": "code",
   "execution_count": null,
   "metadata": {},
   "outputs": [],
   "source": [
    "# Print Shape of Amino Acid Level Embedding\n",
    "print(\"amino acid level embeddings object shape:\")\n",
    "print(\"o) 3 dimensional list of a number of <len(sequences)> embedding matrices with 1024 rows and <len(seq)> columns\") #\n",
    "print(f\"o) 1st D (number of sequences)\\t{len(aa_embeddings)}\")\n",
    "print(f\"o) 2nd D (sequence length)\\t{len(aa_embeddings[0])} (depending on sequence)\")\n",
    "print(f\"o) 3rd D (embedding dimensions)\\t{len(aa_embeddings[0][0])} (constant)\")"
   ]
  },
  {
   "cell_type": "code",
   "execution_count": null,
   "metadata": {},
   "outputs": [],
   "source": [
    "# Compute Protein Level Embedding\n",
    "protein_embeddings = [embedder.reduce_per_protein(e) for e in aa_embeddings]\n",
    "# mean of amino acid level vectors"
   ]
  },
  {
   "cell_type": "code",
   "execution_count": null,
   "metadata": {},
   "outputs": [],
   "source": [
    "# Print Shape of Protein Level Embedding\n",
    "print(\"protein level embeddings-object shape:\")\n",
    "print(\"o) 2 dimensional list of <len(sequences)> embedding vectors with 1024 entries\")\n",
    "print(f\"o) 1st D (number of sequences)\\t{len(protein_embeddings)}\")\n",
    "print(f\"o) 2nd D (embedding dimensions)\\t{len(protein_embeddings[0])} (constant)\")"
   ]
  },
  {
   "cell_type": "code",
   "execution_count": null,
   "metadata": {},
   "outputs": [],
   "source": [
    "# Print Summary of Embedding Shapes:  Sequence | AA Level Embedding | Protein Level Embedding\n",
    "print(\"Member ID\\tAA Level Embedding\\tProtein Level Embedding\")\n",
    "for i, (per_amino_acid, per_protein) in enumerate(zip(aa_embeddings[:3], protein_embeddings[:3])):\n",
    "    print(f\"Protein {i+1}\\t{per_amino_acid.shape}\\t\\t{per_protein.shape}\")\n",
    "print(\". . .\")\n",
    "for i, (per_amino_acid, per_protein) in enumerate(zip(aa_embeddings[-3:], protein_embeddings[-3:]), start=len(aa_embeddings)-2):\n",
    "    print(f\"Protein {i+1}\\t{per_amino_acid.shape}\\t\\t{per_protein.shape}\")\n",
    "print(\"\\nAA embedding should have shape (seq-length, embedding-dimensions), Protein embedding (embedding-dimensions,)\")"
   ]
  },
  {
   "cell_type": "markdown",
   "metadata": {},
   "source": [
    "## o) Projecting high dimensional embedding space to a 3D space\n",
    "see <project_visualize_pipeline_embeddings.ipynb> (Bio-embeddings GitHub)"
   ]
  },
  {
   "cell_type": "code",
   "execution_count": null,
   "metadata": {},
   "outputs": [],
   "source": [
    "# Configure tsne options\n",
    "options = {\n",
    "    'perplexity': 3, # Low perplexity values (e.g., 3) cause t-SNE to focus more on preserving the local structure of the data (high, e.g. 30).\n",
    "    'n_iter': 500 # number of iterations for the tsne algorithm\n",
    "}\n",
    "\n",
    "# Apply TSNE Projection \n",
    "projected_p_embedding = tsne_reduce(protein_embeddings, **options) # list\n",
    "\n",
    "# Display Projected Embedding (from 1024 dimensional (Protein Level) vectors to 3 dimensional coordinate vectors)\n",
    "print(f\"\\nShape of projected/dimensionality-reduced protein level embedding: {projected_p_embedding.shape}\\n\")\n",
    "for i,embedding in enumerate(projected_p_embedding[:3]): # first 3\n",
    "    print(f\"Protein {i+1}\\t{embedding}\")\n",
    "print(\". . .\")\n",
    "for i,embedding in enumerate(projected_p_embedding[-3:]): # last 3\n",
    "    print(f\"Protein {i+len(projected_p_embedding)-2}\\t{embedding}\")\n",
    "print() "
   ]
  },
  {
   "cell_type": "markdown",
   "metadata": {},
   "source": [
    "## o) Visualization of the Data\n",
    "see <project_visualize_pipeline_embeddings.ipynb> (Bio-embeddings GitHub)"
   ]
  },
  {
   "cell_type": "code",
   "execution_count": null,
   "metadata": {},
   "outputs": [],
   "source": [
    "# Create a 3D scatter plot\n",
    "fig = plt.figure()\n",
    "ax = fig.add_subplot(111, projection='3d')\n",
    "\n",
    "# Extract x, y, and z coordinates from the data\n",
    "x = projected_p_embedding[:, 0]\n",
    "y = projected_p_embedding[:, 1]\n",
    "z = projected_p_embedding[:, 2]\n",
    "\n",
    "# Plot the points\n",
    "ax.scatter(x, y, z)\n",
    "\n",
    "# Set labels for each axis\n",
    "ax.set_xlabel('X Label')\n",
    "ax.set_ylabel('Y Label')\n",
    "ax.set_zlabel('Z Label')\n",
    "\n",
    "# Show the plot\n",
    "plt.show()\n"
   ]
  },
  {
   "cell_type": "code",
   "execution_count": null,
   "metadata": {},
   "outputs": [],
   "source": [
    "# Via plotly.express\n",
    "import plotly.express as px\n",
    "\n",
    "fig = px.scatter_3d(\n",
    "    projected_p_embedding, x=0, y=1, z=2,\n",
    "    labels={'0': 'label 1', '1': 'label 2', '2': 'label 3'}\n",
    ")\n",
    "fig.show()"
   ]
  },
  {
   "cell_type": "code",
   "execution_count": null,
   "metadata": {},
   "outputs": [],
   "source": [
    "# raw code from ChatGTP\n",
    "import plotly.express as px\n",
    "from sklearn.decomposition import PCA\n",
    "\n",
    "df = px.data.iris()\n",
    "X = df[['sepal_length', 'sepal_width', 'petal_length', 'petal_width']]\n",
    "\n",
    "pca = PCA(n_components=3)\n",
    "components = pca.fit_transform(X)\n",
    "\n",
    "total_var = pca.explained_variance_ratio_.sum() * 100\n",
    "\n",
    "fig = px.scatter_3d(\n",
    "    components, x=0, y=1, z=2, color=df['species'],\n",
    "    title=f'Total Explained Variance: {total_var:.2f}%',\n",
    "    labels={'0': 'PC 1', '1': 'PC 2', '2': 'PC 3'}\n",
    ")\n",
    "fig.show()"
   ]
  }
 ],
 "metadata": {
  "kernelspec": {
   "display_name": "SPEnv38",
   "language": "python",
   "name": "python3"
  },
  "language_info": {
   "codemirror_mode": {
    "name": "ipython",
    "version": 3
   },
   "file_extension": ".py",
   "mimetype": "text/x-python",
   "name": "python",
   "nbconvert_exporter": "python",
   "pygments_lexer": "ipython3",
   "version": "3.8.18"
  }
 },
 "nbformat": 4,
 "nbformat_minor": 2
}
