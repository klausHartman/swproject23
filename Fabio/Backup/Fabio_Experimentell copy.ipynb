{
 "cells": [
  {
   "cell_type": "markdown",
   "metadata": {},
   "source": [
    "# Bio Embeddings for Shallow Learners\n",
    "1) Choose a VOG\n",
    "2) Choose and generate Bio Embedding: SeqVec, ProtTrans \n",
    "    - Input: VOG specific .fasta file\n",
    "    - Store sequences as objects in a list\n",
    "    - Create embedder object and then an amino-acid level- and a protein- level embedding\n",
    "    - Output: Vector of sequences represented/embedded as points in a multidimensional (feature-) space (vector of vectors). The embeddings harbor a constant number of features, in contrast to the previous state, where protein sequences had different lengths. Amino acid - level embeddings can be considered not as points in this constant feature space but vectors with length equal the length of the sequence.\n",
    "\n",
    "**Links:**\n",
    "- SeqVec \n",
    "    - [Repository](https://github.com/Rostlab/SeqVec)\n",
    "    - [Source-Code](https://github.com/Rostlab/SeqVec/blob/master/seqvec/seqvec.py)\n",
    "- ProtTrans \n",
    "    - [Respository](https://github.com/agemagician/ProtTrans)\n",
    "- Bio-Embeddings\n",
    "    - [Repository](https://github.com/sacdallago/bio_embeddings/tree/develop)\n",
    "    - [Notebooks](https://github.com/sacdallago/bio_embeddings/tree/develop/notebooks)\n",
    "- [Embedder Benchmark Paper](https://www.mdpi.com/1422-0067/24/4/3775)\n",
    "    "
   ]
  },
  {
   "cell_type": "markdown",
   "metadata": {},
   "source": [
    "## 1) Choose input fasta file"
   ]
  },
  {
   "cell_type": "code",
   "execution_count": null,
   "metadata": {},
   "outputs": [],
   "source": [
    "# Test file for download (tiny_sampled.fasta)\n",
    "# !wget http://data.bioembeddings.com/public/embeddings/notebooks/custom_data/tiny_sampled.fasta --output-document BE_testing/tiny_sampled.fasta"
   ]
  },
  {
   "cell_type": "code",
   "execution_count": null,
   "metadata": {},
   "outputs": [],
   "source": [
    "filepath = \"BE_testing/tiny_sampled.fasta\"\n",
    "# filepath = \"BE_testing/VOG1_trial2/VOG00001.faa\""
   ]
  },
  {
   "cell_type": "markdown",
   "metadata": {},
   "source": [
    "## 2) Generate Embeddings"
   ]
  },
  {
   "cell_type": "markdown",
   "metadata": {},
   "source": [
    "### 2.1) Via SeqVec - Commandline (in progress)"
   ]
  },
  {
   "cell_type": "code",
   "execution_count": null,
   "metadata": {},
   "outputs": [],
   "source": [
    "# !pip install seqvec"
   ]
  },
  {
   "cell_type": "code",
   "execution_count": null,
   "metadata": {},
   "outputs": [],
   "source": [
    "# !seqvec -i $filepath -o embeddings.npz\n",
    "!seqvec -i $filepath -o embeddings.npz --split-char ' ' --id 0"
   ]
  },
  {
   "cell_type": "markdown",
   "metadata": {},
   "source": [
    "<span style=\"color:red\">\n",
    "Error encounter: <br>\n",
    "- json.decoder.JSONDecodeError: Expecting value: line 1 column 1 (char 0) <br>\n",
    "- The seqvec command has an optional parameter --model, for choosing a pretrained ELMo model (as 2 files: weights.hdf5 and options.json). <br>\n",
    "- If the parameter is not set, the command will download the files for the default model automatically. <br>\n",
    "- Apparently the .json file is empty (?). The options file also starts with an initial line, typcial for html files and not json files.<br>\n",
    "\n",
    "</span>"
   ]
  },
  {
   "cell_type": "code",
   "execution_count": null,
   "metadata": {},
   "outputs": [],
   "source": [
    "# Load Embeddings\n",
    "import numpy as np\n",
    "import json\n",
    "\n",
    "# option 1: without identifiers:\n",
    "data = np.load(\"embeddings.npz\")  # type: Dict[str, np.ndarray]\n",
    "\n",
    "# # option 2: with identifiers as additional json file\n",
    "# data = np.load(\"embeddings.npy\") # shape=(n_proteins,)\n",
    "# with open(\"embeddings.json\") as fp:\n",
    "#     labels = json.load(fp)"
   ]
  },
  {
   "cell_type": "markdown",
   "metadata": {},
   "source": [
    "### 2.2) Via SeqVec - Script (in progress)"
   ]
  },
  {
   "cell_type": "code",
   "execution_count": 21,
   "metadata": {},
   "outputs": [
    {
     "name": "stdout",
     "output_type": "stream",
     "text": [
      "--2024-02-10 13:48:40--  https://rostlab.org/~deepppi/seqvec.zip\n",
      "Resolving rostlab.org (rostlab.org)... 188.114.96.10, 188.114.97.10, 2a06:98c1:3120::a, ...\n",
      "Connecting to rostlab.org (rostlab.org)|188.114.96.10|:443... connected.\n",
      "HTTP request sent, awaiting response... 200 OK\n",
      "Length: 347361261 (331M) [application/zip]\n",
      "Saving to: ‘seqvec.zip’\n",
      "\n",
      "seqvec.zip          100%[===================>] 331.27M  1.80MB/s    in 3m 8s   \n",
      "\n",
      "2024-02-10 13:51:48 (1.76 MB/s) - ‘seqvec.zip’ saved [347361261/347361261]\n",
      "\n"
     ]
    }
   ],
   "source": [
    "# Download SeqVec model (ELMo model trained on UniRef50) as zip folder\n",
    "!wget https://rostlab.org/~deepppi/seqvec.zip --output-document seqvec.zip"
   ]
  },
  {
   "cell_type": "code",
   "execution_count": 35,
   "metadata": {},
   "outputs": [
    {
     "name": "stdout",
     "output_type": "stream",
     "text": [
      "Archive:  seqvec.zip\n",
      "  inflating: ./uniref50_v2/weights.hdf5  \n",
      "  inflating: ./uniref50_v2/options.json  \n"
     ]
    }
   ],
   "source": [
    "# Unzip and store model files in a folder called 'model' in your working directory (assuming you have unzip installed: $sudo apt-get install unzip)\n",
    "!unzip seqvec.zip -d . # unexpectedly the result is not the seqvec folder but it´s subfolder uniref50_v2\n",
    "!mkdir -p model\n",
    "!mv uniref50_v2/* model/\n",
    "!rm -r uniref50_v2/ seqvec.zip"
   ]
  },
  {
   "cell_type": "code",
   "execution_count": 2,
   "metadata": {},
   "outputs": [],
   "source": [
    "# Load pretrained model\n",
    "from allennlp.commands.elmo import ElmoEmbedder\n",
    "from pathlib import Path\n",
    "\n",
    "model_dir = Path('model/')\n",
    "weights = model_dir / 'weights.hdf5'\n",
    "options = model_dir / 'options.json'\n",
    "embedder = ElmoEmbedder(options,weights, cuda_device=-1) # cuda_device=-1 for CPU, 0 for GPU"
   ]
  },
  {
   "cell_type": "markdown",
   "metadata": {},
   "source": [
    "<span style=\"color:red\">\n",
    "Error Encounter: <br>\n",
    "- No CUDA GPUs are available\n",
    "</span>"
   ]
  },
  {
   "cell_type": "markdown",
   "metadata": {},
   "source": [
    "### 2.3) Via ProTrans - Command Line (in progress)"
   ]
  },
  {
   "cell_type": "code",
   "execution_count": null,
   "metadata": {},
   "outputs": [],
   "source": []
  },
  {
   "cell_type": "markdown",
   "metadata": {},
   "source": [
    "### 2.4) Via ProTrans - Script (in progress)"
   ]
  },
  {
   "cell_type": "code",
   "execution_count": null,
   "metadata": {},
   "outputs": [],
   "source": []
  },
  {
   "cell_type": "markdown",
   "metadata": {},
   "source": [
    "### 2.5) Via Bio-Embeddings Module (done)\n",
    "see [embed_fasta_sequences.ipynb](https://github.com/sacdallago/bio_embeddings/tree/develop/notebooks)"
   ]
  },
  {
   "cell_type": "code",
   "execution_count": null,
   "metadata": {},
   "outputs": [],
   "source": [
    "# Load Modules\n",
    "import numpy as np\n",
    "from Bio import SeqIO\n",
    "from bio_embeddings.embed import ProtTransBertBFDEmbedder\n",
    "from bio_embeddings.embed.seqvec_embedder import SeqVecEmbedder\n",
    "\n",
    "# Extract sequences from fasta file and store them as a list\n",
    "sequences = []\n",
    "for record in SeqIO.parse(filepath, \"fasta\"):\n",
    "    sequences.append(record)\n",
    "\n",
    "# Sanity-check (First 3 and last 3 sequences)\n",
    "print(f\"Member-ID     Identifier\\t\\tLength\\t    Sequence\\n\")\n",
    "for i,s in enumerate(sequences[:3]): # s:SeqIO-object\n",
    "    print(f\"Protein {i+1:<6}{(s.id):<28}{len(s.seq):<10}{s.seq}\") # :<6 for proper output alignment\n",
    "print(\". . .\")\n",
    "for i,s in enumerate(sequences[-3:], start=len(sequences)-2):\n",
    "    print(f\"Protein {i+1:<6}{(s.id):<28}{len(s.seq):<10}{s.seq}\")\n"
   ]
  },
  {
   "cell_type": "code",
   "execution_count": null,
   "metadata": {},
   "outputs": [],
   "source": [
    "# Choose Embedder\n",
    "# embedder = ProtTransBertBFDEmbedder()\n",
    "embedder = SeqVecEmbedder()"
   ]
  },
  {
   "cell_type": "code",
   "execution_count": null,
   "metadata": {},
   "outputs": [],
   "source": [
    "# Compute Amino Acid Level Embedding (takes quiet some time)\n",
    "aa_embeddings = embedder.embed_many([str(s.seq) for s in sequences])\n",
    "# `embed_many` returns a generator. We want to keep both RAW embeddings and reduced embeddings in memory.\n",
    "# To do so, we simply turn the generator into a list (this will start embedding the sequences!).\n",
    "# Needs certain amount of GPU RAM, if not sufficient CPU is used (slower).\n",
    "aa_embeddings = list(aa_embeddings)"
   ]
  },
  {
   "cell_type": "markdown",
   "metadata": {},
   "source": [
    "sm_86 pytorch compatibility issue:\n",
    "- wrong pytorch version prevented using the GPU for the following embedding computation.\n",
    "- solved: conda install pytorch==1.10.0 torchvision==0.11.0 torchaudio==0.10.0 cudatoolkit=11.3 -c pytorch -c conda-forge\n",
    "\n",
    "About SeqVec:\n",
    "- https://github.com/Rostlab/SeqVec/blob/master/README.md : \"All results built upon the embeddings gained from the new tool SeqVec neither explicitly nor implicitly using evolutionary information. Nevertheless, it improved over some methods using such information. Where the lightning-fast HHblits needed on average about two minutes to generate the evolutionary information for a target protein, SeqVec created the vector representation on average in 0.03 seconds.\"\n",
    "- Directory: - \\\\wsl.localhost\\Ubuntu\\home\\dinglemittens\\anaconda3\\envs\\SPEnv38\\lib\\python3.8\\site-packages\\bio_embeddings\\embed\n"
   ]
  },
  {
   "cell_type": "markdown",
   "metadata": {},
   "source": [
    "Trouble with Speed:\n",
    "- Managed to install the proper pytorch version such that the embedder does not have to use the CPU, but it still took (too?) long. Interrupted after 77min for SeqVecEmbedder(). Interruption after 40 min for ProtTransBertBFDEmbedder().\n",
    "- For the tiny_sampled.fasta file which harbors 12 sequences of a total length of 3682 aminoacids, the embedding run took 43 seconds, which are ~5k aminoacids per minute."
   ]
  },
  {
   "cell_type": "code",
   "execution_count": null,
   "metadata": {},
   "outputs": [],
   "source": [
    "# Returns the number of dimensions of an array\n",
    "def dimension_number(array):\n",
    "    dim_num = 0\n",
    "    sublist = array\n",
    "    while isinstance(sublist, (np.ndarray, list)):\n",
    "        dim_num += 1\n",
    "        sublist = sublist[0]\n",
    "    return dim_num"
   ]
  },
  {
   "cell_type": "code",
   "execution_count": null,
   "metadata": {},
   "outputs": [],
   "source": [
    "# Print Shape of Amino Acid Level Embedding\n",
    "if dimension_number(aa_embeddings) == 4:\n",
    "      print(f\"Amino acid level embeddings shape (SeqVec):\")\n",
    "      print(f\"( {len(aa_embeddings)} | {len(aa_embeddings[0])} | variable | {len(aa_embeddings[0][0][0])} )\")\n",
    "      print(\"( no. of sequences | NN layers | sequence length | embedding dimensions)\")\n",
    "elif dimension_number(aa_embeddings) == 3:\n",
    "      print(f\"Amino acid level embeddings object shape (ProtTrans):\")\n",
    "      print(f\"( {len(aa_embeddings)} | variable | {len(aa_embeddings[0][0])} )\")\n",
    "      print(\"( no. of sequences | sequence length | embedding dimensions)\")\n"
   ]
  },
  {
   "cell_type": "code",
   "execution_count": null,
   "metadata": {},
   "outputs": [],
   "source": [
    "# Compute Protein Level Embedding\n",
    "protein_embeddings = [embedder.reduce_per_protein(e) for e in aa_embeddings]\n",
    "# mean of amino acid level vectors\n",
    "\n",
    "# Print Shape of Protein Level Embedding\n",
    "print(\"Protein level embeddings shape:\")\n",
    "print(np.shape(protein_embeddings))\n",
    "print(\"( no. of sequences | embedding dimensions )\")"
   ]
  },
  {
   "cell_type": "code",
   "execution_count": null,
   "metadata": {},
   "outputs": [],
   "source": [
    "# Print Summary of Embedding Shapes:  Sequence | AA Level Embedding | Protein Level Embedding\n",
    "print(\"Member ID\\tAA Level Embedding\\tProtein Level Embedding\")\n",
    "for i, (per_amino_acid, per_protein) in enumerate(zip(aa_embeddings[:3], protein_embeddings[:3])):\n",
    "    print(f\"Protein {i+1}\\t{per_amino_acid.shape}\\t\\t{per_protein.shape}\")\n",
    "print(\". . .\")\n",
    "for i, (per_amino_acid, per_protein) in enumerate(zip(aa_embeddings[-3:], protein_embeddings[-3:]), start=len(aa_embeddings)-2):\n",
    "    print(f\"Protein {i+1}\\t{per_amino_acid.shape}\\t\\t{per_protein.shape}\")"
   ]
  },
  {
   "cell_type": "markdown",
   "metadata": {},
   "source": [
    "## 3) Projection/Dimensionality Reduction"
   ]
  },
  {
   "cell_type": "markdown",
   "metadata": {},
   "source": [
    "### 3.1) Via Bio-Embeddings Module (done)\n",
    "see [project_visualize_pipeline_embeddings.ipynb](https://github.com/sacdallago/bio_embeddings/tree/develop/notebooks) (Bio-embeddings GitHub)"
   ]
  },
  {
   "cell_type": "code",
   "execution_count": null,
   "metadata": {},
   "outputs": [],
   "source": [
    "from bio_embeddings.project import tsne_reduce\n",
    "\n",
    "# Configure tsne options\n",
    "options = {\n",
    "    'perplexity': 3, # Low perplexity values (e.g., 3) cause t-SNE to focus more on preserving the local structure of the data (high, e.g. 30).\n",
    "    'n_iter': 500 # number of iterations for the tsne algorithm\n",
    "}\n",
    "\n",
    "# Apply TSNE Projection \n",
    "projected_p_embedding = tsne_reduce(protein_embeddings, **options) # list\n",
    "\n",
    "# Display Projected Embedding (from 1024 dimensional (Protein Level) vectors to 3 dimensional coordinate vectors)\n",
    "print(f\"\\nShape of projected/dimensionality-reduced protein level embedding: {projected_p_embedding.shape}\\n\")\n",
    "for i,embedding in enumerate(projected_p_embedding[:3]): # first 3\n",
    "    print(f\"Protein {i+1}\\t{embedding}\")\n",
    "print(\". . .\")\n",
    "for i,embedding in enumerate(projected_p_embedding[-3:]): # last 3\n",
    "    print(f\"Protein {i+len(projected_p_embedding)-2}\\t{embedding}\")\n",
    "print() "
   ]
  },
  {
   "cell_type": "markdown",
   "metadata": {},
   "source": [
    "## 4) Visualization of the Projection"
   ]
  },
  {
   "cell_type": "markdown",
   "metadata": {},
   "source": [
    "### 4.1) Via Pyplot Scatterplot"
   ]
  },
  {
   "cell_type": "code",
   "execution_count": null,
   "metadata": {},
   "outputs": [],
   "source": [
    "import matplotlib.pyplot as plt\n",
    "\n",
    "# Create a 3D scatter plot\n",
    "fig = plt.figure()\n",
    "ax = fig.add_subplot(111, projection='3d')\n",
    "\n",
    "# Extract x, y, and z coordinates from the data\n",
    "x = projected_p_embedding[:, 0]\n",
    "y = projected_p_embedding[:, 1]\n",
    "z = projected_p_embedding[:, 2]\n",
    "\n",
    "# Plot the points\n",
    "ax.scatter(x, y, z)\n",
    "\n",
    "# Set labels for each axis\n",
    "ax.set_xlabel('X Label')\n",
    "ax.set_ylabel('Y Label')\n",
    "ax.set_zlabel('Z Label')\n",
    "\n",
    "# Show the plot\n",
    "plt.show()\n"
   ]
  },
  {
   "cell_type": "markdown",
   "metadata": {},
   "source": [
    "### 4.2) Via Plotly Express (in progress)"
   ]
  },
  {
   "cell_type": "code",
   "execution_count": null,
   "metadata": {},
   "outputs": [],
   "source": [
    "import plotly.express as px\n",
    "\n",
    "fig = px.scatter_3d(\n",
    "    projected_p_embedding, x=0, y=1, z=2,\n",
    "    labels={'0': 'label 1', '1': 'label 2', '2': 'label 3'}\n",
    ")\n",
    "fig.show()"
   ]
  },
  {
   "cell_type": "code",
   "execution_count": null,
   "metadata": {},
   "outputs": [],
   "source": [
    "# raw code from ChatGTP\n",
    "import plotly.express as px\n",
    "from sklearn.decomposition import PCA\n",
    "\n",
    "df = px.data.iris()\n",
    "X = df[['sepal_length', 'sepal_width', 'petal_length', 'petal_width']]\n",
    "\n",
    "pca = PCA(n_components=3)\n",
    "components = pca.fit_transform(X)\n",
    "\n",
    "total_var = pca.explained_variance_ratio_.sum() * 100\n",
    "\n",
    "fig = px.scatter_3d(\n",
    "    components, x=0, y=1, z=2, color=df['species'],\n",
    "    title=f'Total Explained Variance: {total_var:.2f}%',\n",
    "    labels={'0': 'PC 1', '1': 'PC 2', '2': 'PC 3'}\n",
    ")\n",
    "fig.show()"
   ]
  },
  {
   "cell_type": "markdown",
   "metadata": {},
   "source": [
    "### 4.3) Via Bio-Embeddings Module (in progress)\n",
    "see [project_visualize_pipeline_embeddings.ipynb](https://github.com/sacdallago/bio_embeddings/tree/develop/notebooks) (Bio-embeddings GitHub)"
   ]
  },
  {
   "cell_type": "code",
   "execution_count": null,
   "metadata": {},
   "outputs": [],
   "source": [
    "# code from jupyter notebook. Has to be adjusted.\n",
    "import h5py\n",
    "import numpy as np\n",
    "from pandas import read_csv\n",
    "from bio_embeddings.project import tsne_reduce\n",
    "from bio_embeddings.visualize import render_3D_scatter_plotly\n",
    "\n",
    "mapping_file = read_csv('mapping_file.csv', index_col=0)\n",
    "embeddings = []\n",
    "with h5py.File('reduced_embeddings_file.h5', 'r') as f:\n",
    "    for remapped_id in mapping_file.index:\n",
    "        embeddings.append(np.array(f[remapped_id]))\n",
    "options = {\n",
    "    'perplexity': 3,\n",
    "    'n_iter': 500\n",
    "}\n",
    "\n",
    "projected_embeddings = tsne_reduce(embeddings, **options)\n",
    "mapping_file['component_0'] = projected_embeddings[:, 0]\n",
    "mapping_file['component_1'] = projected_embeddings[:, 1]\n",
    "mapping_file['component_2'] = projected_embeddings[:, 2]\n",
    "annotation_file = read_csv('annotation_file.csv', index_col=0)\n",
    "\n",
    "merged_annotation_file = annotation_file.join(mapping_file.set_index('original_id'), how='outer')\n",
    "merged_annotation_file['label'].fillna('UNKNOWN', inplace=True)\n",
    "figure = render_3D_scatter_plotly(merged_annotation_file)\n",
    "figure.show()\n",
    "\n"
   ]
  }
 ],
 "metadata": {
  "kernelspec": {
   "display_name": "SPEnv38",
   "language": "python",
   "name": "python3"
  },
  "language_info": {
   "codemirror_mode": {
    "name": "ipython",
    "version": 3
   },
   "file_extension": ".py",
   "mimetype": "text/x-python",
   "name": "python",
   "nbconvert_exporter": "python",
   "pygments_lexer": "ipython3",
   "version": "3.8.18"
  }
 },
 "nbformat": 4,
 "nbformat_minor": 2
}
