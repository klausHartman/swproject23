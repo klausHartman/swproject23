{
 "cells": [
  {
   "cell_type": "markdown",
   "metadata": {},
   "source": [
    "# Bio Embeddings for Shallow Learners\n",
    "1) Choose a VOG\n",
    "2) Choose and generate Bio Embedding: SeqVec, ProtTrans \n",
    "    - Input: VOG specific .fasta file\n",
    "    - Store sequences as objects in a list\n",
    "    - Create embedder object and then an amino-acid level- and a protein- level embedding\n",
    "    - Output: Vector of sequences represented/embedded as points in a multidimensional (feature-) space (vector of vectors). The embeddings harbor a constant number of features, in contrast to the previous state, where protein sequences had different lengths. Amino acid - level embeddings can be considered not as points in this constant feature space but vectors with length equal the length of the sequence.\n",
    "\n",
    "**Links:**\n",
    "- SeqVec \n",
    "    - [Repository](https://github.com/Rostlab/SeqVec)\n",
    "    - [Source-Code](https://github.com/Rostlab/SeqVec/blob/master/seqvec/seqvec.py)\n",
    "- ProtTrans \n",
    "    - [Respository](https://github.com/agemagician/ProtTrans)\n",
    "- Bio-Embeddings\n",
    "    - [Repository](https://github.com/sacdallago/bio_embeddings/tree/develop)\n",
    "    - [Notebooks](https://github.com/sacdallago/bio_embeddings/tree/develop/notebooks)\n",
    "- [Embedder Benchmark Paper](https://www.mdpi.com/1422-0067/24/4/3775)\n",
    "    "
   ]
  },
  {
   "cell_type": "markdown",
   "metadata": {},
   "source": [
    "## 0) Setting up a conda environment\n",
    "1) install anaconda\n",
    "2) deactivate the base env\n",
    "3) create and activate conda env\n",
    "4) install python 3.8\n",
    "5) pip install seqvec\n",
    "6) pip install bio-embeddings[all]"
   ]
  },
  {
   "cell_type": "markdown",
   "metadata": {},
   "source": [
    "## 1) Choose input fasta file"
   ]
  },
  {
   "cell_type": "code",
   "execution_count": null,
   "metadata": {},
   "outputs": [],
   "source": [
    "# Test file for download (tiny_sampled.fasta)\n",
    "# !wget http://data.bioembeddings.com/public/embeddings/notebooks/custom_data/tiny_sampled.fasta --output-document BE_testing/tiny_sampled.fasta"
   ]
  },
  {
   "cell_type": "code",
   "execution_count": 1,
   "metadata": {},
   "outputs": [],
   "source": [
    "filepath = \"fasta_files/tiny_sampled.fasta\"\n",
    "# filepath = \"fasta_files/VOG00001.faa\"\n",
    "# filepath = \"fasta_files/VOG00024.faa\""
   ]
  },
  {
   "cell_type": "markdown",
   "metadata": {},
   "source": [
    "## 2) Generate Embeddings"
   ]
  },
  {
   "cell_type": "markdown",
   "metadata": {},
   "source": [
    "### 2.1) Via SeqVec - Commandline (in progress)"
   ]
  },
  {
   "cell_type": "code",
   "execution_count": null,
   "metadata": {},
   "outputs": [],
   "source": [
    "# !pip install seqvec\n",
    "# !pip install seqvec==0.4.1"
   ]
  },
  {
   "cell_type": "code",
   "execution_count": null,
   "metadata": {},
   "outputs": [],
   "source": [
    "# Download SeqVec model (ELMo model trained on UniRef50) as zip folder\\n\",\n",
    "!wget https://rostlab.org/~deepppi/seqvec.zip --output-document seqvec.zip\""
   ]
  },
  {
   "cell_type": "code",
   "execution_count": null,
   "metadata": {},
   "outputs": [],
   "source": [
    "# Unzip and store model files in a folder called 'model' in your working directory (assuming you have unzip installed: $sudo apt-get install unzip)\n",
    "!unzip seqvec.zip -d . # note: unexpectedly the result of this line is not the seqvec folder but it´s subfolder uniref50_v2\n",
    "!mkdir -p SV_model # create folder called 'model'\n",
    "!mv uniref50_v2/* SV_model/ # move weights and options file to 'model'\n",
    "!rm -r uniref50_v2/ seqvec.zip # remove empty folders\""
   ]
  },
  {
   "cell_type": "code",
   "execution_count": null,
   "metadata": {},
   "outputs": [],
   "source": [
    "# !seqvec -i $filepath -o embeddings.npz\n",
    "!seqvec -i $filepath -o embeddings.npz --split-char ' ' --id 0\n",
    "!seqvec -i $filepath -o embeddings.npz --model model/ --split-char ' ' --id 0"
   ]
  },
  {
   "cell_type": "markdown",
   "metadata": {},
   "source": [
    "<span style=\"color:red\"> Error encounter: </span>\n",
    "    - json.decoder.JSONDecodeError: Expecting value: line 1 column 1 (char 0) <br>\n",
    "    - The seqvec command has an optional parameter --model, for choosing a pretrained ELMo model (as 2 files: weights.hdf5 and options.json). <br>\n",
    "    - If the parameter is not set, the command will download the files for the default model automatically. <br>\n",
    "    - Apparently the .json file is empty (?). The options file also starts with an initial line, typcial for html files and not json files.<br>\n",
    "    - <span style=\"color:blue\"> Solved: </span>\n",
    "    \"Created a new conda environment with python 3.8, pip seqvec and pip bio-embeddings[all] (name: SP382), this time the run caused no problems (*rolling eyes*). But it still runs on CPU not GPU.\""
   ]
  },
  {
   "cell_type": "code",
   "execution_count": null,
   "metadata": {},
   "outputs": [],
   "source": [
    "# Load Embeddings\n",
    "import numpy as np\n",
    "import json\n",
    "\n",
    "# option 1: without identifiers:\n",
    "aa_embd_SV = np.load(\"embeddings.npz\")  # type: Dict[str, np.ndarray]\n",
    "\n",
    "# # option 2: with identifiers as additional json file\n",
    "# aa_embd_SV = np.load(\"embeddings.npy\") # shape=(n_proteins,)\n",
    "# with open(\"embeddings.json\") as fp:\n",
    "#     labels = json.load(fp)"
   ]
  },
  {
   "cell_type": "markdown",
   "metadata": {},
   "source": [
    "<span style=\"color:red\"> Error Encounter: </span>\n",
    "-\"No CUDA GPUs are available\"\n",
    "- <span style=\"color:blue\"> Solved: </span> created new env (SP38) with python3.8, pip seqvec and pip bio-embeddings[all]\n",
    "\n",
    "<span style='color:red'> Error Encounter: </span>\n",
    "- sm_86 pytorch compatibility issue\n",
    "- wrong pytorch version prevented using the GPU for the following embedding computation.\n",
    "- <span style=\"color:blue\"> Solved: </span> conda install pytorch==1.10.0 torchvision==0.11.0 torchaudio==0.10.0 cudatoolkit=11.3 -c pytorch -c conda-forge\""
   ]
  },
  {
   "cell_type": "markdown",
   "metadata": {},
   "source": [
    "### 2.2) Via SeqVec - Script (in progress)"
   ]
  },
  {
   "cell_type": "code",
   "execution_count": 21,
   "metadata": {},
   "outputs": [
    {
     "name": "stdout",
     "output_type": "stream",
     "text": [
      "--2024-02-10 13:48:40--  https://rostlab.org/~deepppi/seqvec.zip\n",
      "Resolving rostlab.org (rostlab.org)... 188.114.96.10, 188.114.97.10, 2a06:98c1:3120::a, ...\n",
      "Connecting to rostlab.org (rostlab.org)|188.114.96.10|:443... connected.\n",
      "HTTP request sent, awaiting response... 200 OK\n",
      "Length: 347361261 (331M) [application/zip]\n",
      "Saving to: ‘seqvec.zip’\n",
      "\n",
      "seqvec.zip          100%[===================>] 331.27M  1.80MB/s    in 3m 8s   \n",
      "\n",
      "2024-02-10 13:51:48 (1.76 MB/s) - ‘seqvec.zip’ saved [347361261/347361261]\n",
      "\n"
     ]
    }
   ],
   "source": [
    "# Download SeqVec model (ELMo model trained on UniRef50) as zip folder\n",
    "!wget https://rostlab.org/~deepppi/seqvec.zip --output-document seqvec.zip"
   ]
  },
  {
   "cell_type": "code",
   "execution_count": 35,
   "metadata": {},
   "outputs": [
    {
     "name": "stdout",
     "output_type": "stream",
     "text": [
      "Archive:  seqvec.zip\n",
      "  inflating: ./uniref50_v2/weights.hdf5  \n",
      "  inflating: ./uniref50_v2/options.json  \n"
     ]
    }
   ],
   "source": [
    "# Unzip and store model files in a folder called 'model' in your working directory (assuming you have unzip installed: $sudo apt-get install unzip)\n",
    "!unzip seqvec.zip -d . # note: unexpectedly the result of this line is not the seqvec folder but it´s subfolder uniref50_v2\n",
    "!mkdir -p SV_model # create folder called 'model'\n",
    "!mv uniref50_v2/* SV_model/ # move weights and options file to 'model'\n",
    "!rm -r uniref50_v2/ seqvec.zip # remove empty folders\""
   ]
  },
  {
   "cell_type": "code",
   "execution_count": 2,
   "metadata": {},
   "outputs": [],
   "source": [
    "# Load pretrained model\n",
    "from allennlp.commands.elmo import ElmoEmbedder\n",
    "from pathlib import Path\n",
    "\n",
    "model_dir = Path('model/')\n",
    "weights = model_dir / 'weights.hdf5'\n",
    "options = model_dir / 'options.json'\n",
    "embedder = ElmoEmbedder(options,weights, cuda_device=-1) # cuda_device=-1 for CPU, 0 for GPU"
   ]
  },
  {
   "cell_type": "markdown",
   "metadata": {},
   "source": [
    "<span style=\"color:red\"> Error Encounter: </span>\n",
    "- \"No CUDA GPUs are available\"\n",
    "- <span style=\"color:blue\"> Solved: </span> created new env (SP38) with python3.8, pip seqvec and pip bio-embeddings[all]\n",
    "    \n",
    "<span style='color:red'> Error Encounter: </span>\n",
    "- sm_86 pytorch compatibility issue\n",
    "- wrong pytorch version prevented using the GPU for the following embedding computation.\n",
    "- <span style=\"color:blue\"> Solved: </span> conda install pytorch==1.10.0 torchvision==0.11.0 torchaudio==0.10.0 cudatoolkit=11.3 -c pytorch -c conda-forge\""
   ]
  },
  {
   "cell_type": "code",
   "execution_count": null,
   "metadata": {},
   "outputs": [],
   "source": [
    "# Define path of input fasta file\n",
    "filepath = \"BE_testing/tiny_sampled.fasta\"\n",
    "\n",
    "# Extract sequences from fasta file and store them as a list\n",
    "sequences = []\n",
    "for record in SeqIO.parse(filepath, \"fasta\"):\n",
    "    sequences.append(list(record.seq))\n",
    "\n",
    "aa_embd = embedder.embed_sentences(sequences) # returns: List-of-Lists with shape [3,L,1024]"
   ]
  },
  {
   "cell_type": "markdown",
   "metadata": {},
   "source": [
    "**Notes:** \n",
    "- Apparently the seqvec embedder works best for tokenized sequences.\n",
    "- Speed is highly improved if sequences are sorted before the embedding process:\n",
    "    - seqs = [list(seq1), list(seq2)]\n",
    "    - seqs.sort(key=len)\""
   ]
  },
  {
   "cell_type": "code",
   "execution_count": null,
   "metadata": {},
   "outputs": [],
   "source": [
    "import torch\n",
    "    \n",
    "# Get 1024-dimensional embedding for per-protein predictions:\n",
    "protein_embd_SV = torch.tensor(aa_embd).sum(dim=0).mean(dim=0) # Vector with shape"
   ]
  },
  {
   "cell_type": "markdown",
   "metadata": {},
   "source": [
    "<span style=\"color:red\">Error Encounter:</span> <br>\n",
    "- No CUDA GPUs are available\n",
    "- Could not infer dtype of generator"
   ]
  },
  {
   "cell_type": "code",
   "execution_count": null,
   "metadata": {},
   "outputs": [],
   "source": [
    "# Get 1024-dimensional embedding for per-residue predictions:\n",
    "residue_embd_SV = torch.tensor(aa_embd).sum(dim=0) # Tensor with shape [L,1024]\n",
    "  "
   ]
  },
  {
   "cell_type": "markdown",
   "metadata": {},
   "source": [
    "<span style=\"color:red\">Error Encounter: </span> <br>\n",
    "- Could not infer dtype of generator\n",
    "\n"
   ]
  },
  {
   "cell_type": "markdown",
   "metadata": {},
   "source": [
    "### 2.3) Via ProTrans - Command Line (in progress)"
   ]
  },
  {
   "cell_type": "code",
   "execution_count": null,
   "metadata": {},
   "outputs": [],
   "source": []
  },
  {
   "cell_type": "markdown",
   "metadata": {},
   "source": [
    "### 2.4) Via ProTrans - Script (in progress)"
   ]
  },
  {
   "cell_type": "code",
   "execution_count": null,
   "metadata": {},
   "outputs": [],
   "source": []
  },
  {
   "cell_type": "markdown",
   "metadata": {},
   "source": [
    "### 2.5) Via Bio-Embeddings Module (done)\n",
    "see [embed_fasta_sequences.ipynb](https://github.com/sacdallago/bio_embeddings/tree/develop/notebooks)"
   ]
  },
  {
   "cell_type": "code",
   "execution_count": null,
   "metadata": {},
   "outputs": [],
   "source": [
    "# Load Modules\n",
    "import numpy as np\n",
    "from Bio import SeqIO\n",
    "from bio_embeddings.embed import ProtTransBertBFDEmbedder\n",
    "from bio_embeddings.embed.seqvec_embedder import SeqVecEmbedder\n",
    "\n",
    "# Extract sequences from fasta file and store them as a list\n",
    "sequences = []\n",
    "for record in SeqIO.parse(filepath, \"fasta\"):\n",
    "    sequences.append(record)\n",
    "\n",
    "# Sanity-check (First 3 and last 3 sequences)\n",
    "print(f\"Member-ID     Identifier\\t\\tLength\\t    Sequence\\n\")\n",
    "for i,s in enumerate(sequences[:3]): # s:SeqIO-object\n",
    "    print(f\"Protein {i+1:<6}{(s.id):<28}{len(s.seq):<10}{s.seq}\") # :<6 for proper output alignment\n",
    "print(\". . .\")\n",
    "for i,s in enumerate(sequences[-3:], start=len(sequences)-2):\n",
    "    print(f\"Protein {i+1:<6}{(s.id):<28}{len(s.seq):<10}{s.seq}\")\n"
   ]
  },
  {
   "cell_type": "code",
   "execution_count": null,
   "metadata": {},
   "outputs": [],
   "source": [
    "# Choose Embedder\n",
    "# embedder = ProtTransBertBFDEmbedder()\n",
    "embedder = SeqVecEmbedder()"
   ]
  },
  {
   "cell_type": "markdown",
   "metadata": {},
   "source": [
    "<span style=\"color:red\"> Error Encounter: </span> <br>\n",
    "- RuntimeError: CUDA error: no kernel image is available for execution on the device\n",
    "CUDA kernel errors might be asynchronously reported at some other API call,so the stacktrace below might be incorrect.\n",
    "For debugging consider passing CUDA_LAUNCH_BLOCKING=1.\n",
    "- appears when using SP382\n",
    "- works when using SPEnv38\""
   ]
  },
  {
   "cell_type": "code",
   "execution_count": null,
   "metadata": {},
   "outputs": [],
   "source": [
    "# Compute Amino Acid Level Embedding (takes quiet some time)\n",
    "aa_embd = embedder.embed_many([str(s.seq) for s in sequences])\n",
    "# `embed_many` returns a generator. We want to keep both RAW embeddings and reduced embeddings in memory.\n",
    "# To do so, we simply turn the generator into a list (this will start embedding the sequences!).\n",
    "# Needs certain amount of GPU RAM, if not sufficient CPU is used (slower).\n",
    "aa_embd = list(aa_embd)"
   ]
  },
  {
   "cell_type": "markdown",
   "metadata": {},
   "source": [
    "sm_86 pytorch compatibility issue:\n",
    "- wrong pytorch version prevented using the GPU for the following embedding computation.\n",
    "- solved: conda install pytorch==1.10.0 torchvision==0.11.0 torchaudio==0.10.0 cudatoolkit=11.3 -c pytorch -c conda-forge\n",
    "\n",
    "About SeqVec:\n",
    "- https://github.com/Rostlab/SeqVec/blob/master/README.md : \"All results built upon the embeddings gained from the new tool SeqVec neither explicitly nor implicitly using evolutionary information. Nevertheless, it improved over some methods using such information. Where the lightning-fast HHblits needed on average about two minutes to generate the evolutionary information for a target protein, SeqVec created the vector representation on average in 0.03 seconds.\"\n",
    "- Directory: - \\\\wsl.localhost\\Ubuntu\\home\\dinglemittens\\anaconda3\\envs\\SPEnv38\\lib\\python3.8\\site-packages\\bio_embeddings\\embed\n"
   ]
  },
  {
   "cell_type": "markdown",
   "metadata": {},
   "source": [
    "Trouble with Speed:\n",
    "- Managed to install the proper pytorch version such that the embedder does not have to use the CPU, but it still took (too?) long. Interrupted after 77min for SeqVecEmbedder(). Interruption after 40 min for ProtTransBertBFDEmbedder().\n",
    "- For the tiny_sampled.fasta file which harbors 12 sequences of a total length of 3682 aminoacids, the embedding run took 43 seconds, which are ~5k aminoacids per minute.\n",
    "- ~2 min for VOG24"
   ]
  },
  {
   "cell_type": "code",
   "execution_count": null,
   "metadata": {},
   "outputs": [],
   "source": [
    "# Returns the number of dimensions of an array\n",
    "def dimension_number(array):\n",
    "    dim_num = 0\n",
    "    sublist = array\n",
    "    while isinstance(sublist, (np.ndarray, list)):\n",
    "        dim_num += 1\n",
    "        sublist = sublist[0]\n",
    "    return dim_num\n",
    "\n",
    "# Print Shape of Amino Acid Level Embedding\n",
    "if dimension_number(aa_embd) == 4: # SeqVec\n",
    "      print(f\"Amino acid level embeddings shape:\")\n",
    "      print(f\"( {len(aa_embd)} | {len(aa_embd[0])} | variable | {len(aa_embd[0][0][0])} )\")\n",
    "      print(\"( no. of sequences | NN layers | sequence length | embedding dimensions)\")\n",
    "elif dimension_number(aa_embd) == 3: # ProtTransBERTEmbedder\n",
    "      print(f\"Amino acid level embeddings object shape:\")\n",
    "      print(f\"( {len(aa_embd)} | variable | {len(aa_embd[0][0])} )\")\n",
    "      print(\"( no. of sequences | sequence length | embedding dimensions)\")\n"
   ]
  },
  {
   "cell_type": "code",
   "execution_count": null,
   "metadata": {},
   "outputs": [],
   "source": [
    "# Compute Protein Level Embedding\n",
    "protein_embd = [embedder.reduce_per_protein(e) for e in aa_embd]\n",
    "# mean of amino acid level vectors\n",
    "\n",
    "# Print Shape of Protein Level Embedding\n",
    "print(\"Protein level embeddings shape:\")\n",
    "print(np.shape(protein_embd))\n",
    "print(\"( no. of sequences | embedding dimensions )\")"
   ]
  },
  {
   "cell_type": "code",
   "execution_count": null,
   "metadata": {},
   "outputs": [],
   "source": [
    "# Print Summary of Embedding Shapes:  Sequence | AA Level Embedding | Protein Level Embedding\n",
    "print(\"Member ID\\tAA Level Embedding\\tProtein Level Embedding\")\n",
    "for i, (per_amino_acid, per_protein) in enumerate(zip(aa_embd[:3], protein_embd[:3])):\n",
    "    print(f\"Protein {i+1}\\t{per_amino_acid.shape}\\t\\t{per_protein.shape}\")\n",
    "print(\". . .\")\n",
    "for i, (per_amino_acid, per_protein) in enumerate(zip(aa_embd[-3:], protein_embd[-3:]), start=len(aa_embd)-2):\n",
    "    print(f\"Protein {i+1}\\t{per_amino_acid.shape}\\t\\t{per_protein.shape}\")"
   ]
  },
  {
   "cell_type": "markdown",
   "metadata": {},
   "source": [
    "## 3) Projection/Dimensionality Reduction"
   ]
  },
  {
   "cell_type": "markdown",
   "metadata": {},
   "source": [
    "### 3.1) Via Bio-Embeddings Module (done)\n",
    "see [project_visualize_pipeline_embeddings.ipynb](https://github.com/sacdallago/bio_embeddings/tree/develop/notebooks) (Bio-embeddings GitHub)"
   ]
  },
  {
   "cell_type": "code",
   "execution_count": null,
   "metadata": {},
   "outputs": [],
   "source": [
    "from bio_embeddings.project import tsne_reduce\n",
    "\n",
    "# Configure tsne options\n",
    "options = {\n",
    "    'perplexity': 3, # Low perplexity values (e.g., 3) cause t-SNE to focus more on preserving the local structure of the data (high, e.g. 30).\n",
    "    'n_iter': 500 # number of iterations for the tsne algorithm\n",
    "}\n",
    "\n",
    "# Apply TSNE Projection \n",
    "projected_p_embd = tsne_reduce(protein_embd, **options) # list\n",
    "\n",
    "# Display Projected Embedding (from 1024 dimensional (Protein Level) vectors to 3 dimensional coordinate vectors)\n",
    "print(f\"\\nShape of projected/dimensionality-reduced protein level embedding: {projected_p_embd.shape}\\n\")\n",
    "for i,embedding in enumerate(projected_p_embd[:3]): # first 3\n",
    "    print(f\"Protein {i+1}\\t{embedding}\")\n",
    "print(\". . .\")\n",
    "for i,embedding in enumerate(projected_p_embd[-3:]): # last 3\n",
    "    print(f\"Protein {i+len(projected_p_embd)-2}\\t{embedding}\")\n",
    "print() "
   ]
  },
  {
   "cell_type": "markdown",
   "metadata": {},
   "source": [
    "## 4) Visualization of the Projection"
   ]
  },
  {
   "cell_type": "markdown",
   "metadata": {},
   "source": [
    "### 4.1) Via Pyplot Scatterplot"
   ]
  },
  {
   "cell_type": "code",
   "execution_count": null,
   "metadata": {},
   "outputs": [],
   "source": [
    "import matplotlib.pyplot as plt\n",
    "\n",
    "# Create a 3D scatter plot\n",
    "fig = plt.figure()\n",
    "ax = fig.add_subplot(111, projection='3d')\n",
    "\n",
    "# Extract x, y, and z coordinates from the data\n",
    "x = projected_p_embd[:, 0]\n",
    "y = projected_p_embd[:, 1]\n",
    "z = projected_p_embd[:, 2]\n",
    "\n",
    "# Plot the points\n",
    "ax.scatter(x, y, z)\n",
    "\n",
    "# Set labels for each axis\n",
    "ax.set_xlabel('X Label')\n",
    "ax.set_ylabel('Y Label')\n",
    "ax.set_zlabel('Z Label')\n",
    "\n",
    "# Show the plot\n",
    "plt.show()\n"
   ]
  },
  {
   "cell_type": "markdown",
   "metadata": {},
   "source": [
    "### 4.2) Via Plotly Express (in progress)"
   ]
  },
  {
   "cell_type": "code",
   "execution_count": null,
   "metadata": {},
   "outputs": [],
   "source": [
    "import plotly.express as px\n",
    "\n",
    "fig = px.scatter_3d(\n",
    "    projected_p_embd, x=0, y=1, z=2,\n",
    "    labels={'0': 'label 1', '1': 'label 2', '2': 'label 3'}\n",
    ")\n",
    "fig.show()"
   ]
  },
  {
   "cell_type": "markdown",
   "metadata": {},
   "source": [
    "<span style=\"color:red\"> Error Encounter:</span> <br>\n",
    "- ValueError: Mime type rendering requires nbformat>=4.2.0 but it is not installed\n",
    "- <span style=\"color:blue\"> Solved: </span> pip install --upgrade nbformat"
   ]
  },
  {
   "cell_type": "markdown",
   "metadata": {},
   "source": [
    "### 4.3) Via Bio-Embeddings Module (in progress)\n",
    "see [project_visualize_pipeline_embeddings.ipynb](https://github.com/sacdallago/bio_embeddings/tree/develop/notebooks) (Bio-embeddings GitHub)"
   ]
  },
  {
   "cell_type": "code",
   "execution_count": null,
   "metadata": {},
   "outputs": [],
   "source": [
    "import h5py\n",
    "import numpy as np\n",
    "import pandas as pd\n",
    "from bio_embeddings.visualize import render_3D_scatter_plotly\n",
    "\n",
    "column_names = ['component_0', 'component_1', 'component_2']\n",
    "df = pd.DataFrame(projected_p_embd, columns=column_names)\n",
    "\n",
    "figure = render_3D_scatter_plotly(df)\n",
    "figure.show()"
   ]
  }
 ],
 "metadata": {
  "kernelspec": {
   "display_name": "SPEnv38",
   "language": "python",
   "name": "python3"
  },
  "language_info": {
   "codemirror_mode": {
    "name": "ipython",
    "version": 3
   },
   "file_extension": ".py",
   "mimetype": "text/x-python",
   "name": "python",
   "nbconvert_exporter": "python",
   "pygments_lexer": "ipython3",
   "version": "3.11.5"
  }
 },
 "nbformat": 4,
 "nbformat_minor": 2
}
