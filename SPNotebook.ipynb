{
 "cells": [
  {
   "cell_type": "markdown",
   "metadata": {},
   "source": [
    "# Software Projekt - Sequence Embeddings on Shallow Learners\n",
    "**2023, Klaus Hartmann-Baruffi, Fabio Pfaehler**"
   ]
  },
  {
   "cell_type": "markdown",
   "metadata": {},
   "source": [
    "## o) Open Topics/Questions:\n",
    "- F: How does our subset look like? Either 1) define a number of protein IDs or 2) define a number of VOGs ?\n",
    "  1) We would have to collect the subset of protein IDs and convert them into a new fasta file that serves as input for the bio-embedding tool.\n",
    "  2) We could directly simply define a subset of VOGs and input the corresponding (already VOG assigned) fasta files and could skip all the steps that come before the application of the bio-embeddings tool. <br>\n",
    "  \n",
    "  F: I guess rather (1) than (2). I guess it´s more important to cover and prioritize including all the labels and take a subset of protein IDs per VOG. I suggest that the number of proteins chosen per VOG is relative to the size of the VOG. So define the \"size of the subset\" by choosing a certain percentage value(as the proportion of proteins that will be drawn from each VOG). <br>\n",
    "  F: Actually taking a percentage might be a bad idea. If I´m not wrong it is cruicial for labels/VOGs with few features, eg. the very last VOG with only 2 protein IDs , that those groups have all IDs presented in our subset.\n",
    "\n",
    "- F: Further Preprocessing of the input fasta files. <br> \n",
    "1) The bio-embeddings module recognizes redundant sequences in our VOGDB fasta files. \n",
    "2) The bio-embeddings module takes fasta files as input. So for each VOG=class=label we need a fasta file with a certain subset of Protein sequence entries, we run the module for all our VOGs and get as output the corresponding feature vector (as embedding)."
   ]
  },
  {
   "cell_type": "markdown",
   "metadata": {},
   "source": [
    "## o) Install Libraries"
   ]
  },
  {
   "cell_type": "code",
   "execution_count": null,
   "metadata": {},
   "outputs": [],
   "source": [
    "\"\"\"not tested, taken from one of the provided notebooks found in the bio-embeddings github\"\"\"\n",
    "# # bio-embeddings\n",
    "# !pip3 install -U pip > /dev/null\n",
    "# !pip3 install -U bio_embeddings[all] > /dev/null"
   ]
  },
  {
   "cell_type": "markdown",
   "metadata": {},
   "source": [
    "## o) Import Libraries"
   ]
  },
  {
   "cell_type": "code",
   "execution_count": null,
   "metadata": {},
   "outputs": [],
   "source": [
    "import numpy as np\n",
    "import pandas as pd\n",
    "import matplotlib.pyplot as plt\n",
    "import h5py\n",
    "from Bio import SeqIO\n",
    "from bio_embeddings.embed import ProtTransBertBFDEmbedder\n",
    "from bio_embeddings.embed.seqvec_embedder import SeqVecEmbedder\n",
    "from bio_embeddings.project import tsne_reduce\n",
    "from bio_embeddings.visualize import render_3D_scatter_plotly"
   ]
  },
  {
   "cell_type": "markdown",
   "metadata": {},
   "source": [
    "## o) Load Data, Choose a Subset\n",
    "\n",
    "Our aim is to use shallow learners, hence using the whole dataset (38161 vog groups/instances) is not feasable and we take only a subset to work with."
   ]
  },
  {
   "cell_type": "code",
   "execution_count": null,
   "metadata": {},
   "outputs": [],
   "source": [
    "# Load data\n",
    "df = pd.read_csv(\"/home/dinglemittens/SoftwareProject/VOGDB/vog.members.tsv\",sep='\\t', header=0)\n",
    "print(\"dataset shape: {}\\n\".format(df.shape))\n",
    "\n",
    "# Choose subset from vog \"start\" to vog \"end\"\n",
    "start = 5\n",
    "end = 19\n",
    "subset = df.iloc[start-1 : end]\n",
    "print(subset.iloc[:3])"
   ]
  },
  {
   "cell_type": "markdown",
   "metadata": {},
   "source": [
    "## o) Generate Feature- and Label-Vectors\n",
    "\n",
    "Number of labels/classes (VOG groups) = size of the subset\n",
    "Number of features/feature dimensions (protein IDs/sequences) = size of the subset * number of proteins per VOG * length of the proteinsequence * 20 \n",
    ", where 20 reflects the number of aminoacids in a 1-hot-encoding, since we can´t feed the model with string-characters."
   ]
  },
  {
   "cell_type": "code",
   "execution_count": null,
   "metadata": {},
   "outputs": [],
   "source": [
    "# Convert unflattened labels (#GroupName) and features (ProteinIDs) into lists\n",
    "group_names = subset[\"#GroupName\"].tolist()\n",
    "protein_ids = subset[\"ProteinIDs\"].tolist()\n",
    "\n",
    "# Generate flattened feature(X)- and label(y)-vectors\n",
    "X=[]\n",
    "y=[]\n",
    "for group in group_names:\n",
    "    for per_group_ids in protein_ids:\n",
    "        for protein_id in per_group_ids.split(\",\"): # note: maybe change iterator names (confusing; we have the df ProteinIDs column which contains collections of protein IDs per group, so ProteinIDs contains protein ids)\n",
    "            y.append(int(group.replace(\"VOG\",\"\")))\n",
    "            X.append(protein_id)"
   ]
  },
  {
   "cell_type": "markdown",
   "metadata": {},
   "source": [
    "## o) Generate Bio-Embeddings (in progress)\n",
    "see <embed_fasta_sequences.ipynb>\n",
    "\n",
    "As we highlited in the previous step, the dimensions, - complexity of our feature space - , are extraordinary high, we need to reduce the feature size. For this purpose we will use so called protein- or bio-embeddings to ..."
   ]
  },
  {
   "cell_type": "code",
   "execution_count": null,
   "metadata": {},
   "outputs": [],
   "source": [
    "# # Create (download) testing fasta file (tiny_sampled.fasta)\n",
    "# !wget http://data.bioembeddings.com/public/embeddings/notebooks/custom_data/tiny_sampled.fasta --output-document BE_testing/tiny_sampled.fasta"
   ]
  },
  {
   "cell_type": "code",
   "execution_count": null,
   "metadata": {},
   "outputs": [],
   "source": [
    "# Extract sequences from fasta file and store them as a list\n",
    "# filepath = \"Fabio/BE_testing/tiny_sampled.fasta\"\n",
    "filepath = \"BE_testing/VOG1_trial2/VOG00001.faa\"\n",
    "sequences = []\n",
    "for record in SeqIO.parse(filepath, \"fasta\"):\n",
    "    sequences.append(record)\n",
    "\n",
    "# Sanity-check\n",
    "print(f\"Member-ID     Identifier\\t\\tLength\\t    Sequence\\n\")\n",
    "for i,s in enumerate(sequences):\n",
    "    print(f\"Protein {i+1:<6}{(s.id):<28}{len(s.seq):<10}{s.seq}\") # :<6 for proper output alignment"
   ]
  },
  {
   "cell_type": "markdown",
   "metadata": {},
   "source": [
    "sm_86 pytorch compatibility issue:\n",
    "- https://github.com/pytorch/pytorch/issues/45028\n",
    "- \\\\wsl.localhost\\Ubuntu\\home\\dinglemittens\\anaconda3\\envs\\SPEnv38\\lib\\python3.8\\site-packages\\bio_embeddings\\embed\n",
    "- solved: conda install pytorch==1.10.0 torchvision==0.11.0 torchaudio==0.10.0 cudatoolkit=11.3 -c pytorch -c conda-forge\n",
    "\n",
    "About SeqVec:\n",
    "- https://github.com/Rostlab/SeqVec/blob/master/README.md : \"All results built upon the embeddings gained from the new tool SeqVec neither explicitly nor implicitly using evolutionary information. Nevertheless, it improved over some methods using such information. Where the lightning-fast HHblits needed on average about two minutes to generate the evolutionary information for a target protein, SeqVec created the vector representation on average in 0.03 seconds.\""
   ]
  },
  {
   "cell_type": "code",
   "execution_count": null,
   "metadata": {},
   "outputs": [],
   "source": [
    "# Generate Embedder Object\n",
    "# embedder = ProtTransBertBFDEmbedder()\n",
    "embedder = SeqVecEmbedder()"
   ]
  },
  {
   "cell_type": "markdown",
   "metadata": {},
   "source": [
    "Trouble with ProtTrans Bert:\n",
    "- Fabio: For the following aa level embedding via ProtTransBertBFDEmbedder() apparently my laptop GPU memory is too low, it uses CPU instead which significantly affects the speed. Interrupted after 40 min. Errormessage:\n",
    "RuntimeError for sequence with 166 residues: CUDA error: no kernel image is available for execution on the device<br>\n",
    "CUDA kernel errors might be asynchronously reported at some other API call,so the stacktrace below might be incorrect.<br>\n",
    "For debugging consider passing CUDA_LAUNCH_BLOCKING=1.. This most likely means that you don't have enough GPU RAM to embed a protein this long. Embedding on the CPU instead, which is very slow.\n"
   ]
  },
  {
   "cell_type": "code",
   "execution_count": null,
   "metadata": {},
   "outputs": [],
   "source": [
    "# Compute Amino Acid Level Embedding (takes quiet some time)\n",
    "aa_embeddings = embedder.embed_many([str(s.seq) for s in sequences])\n",
    "# `embed_many` returns a generator.\n",
    "# We want to keep both RAW embeddings and reduced embeddings in memory.\n",
    "# To do so, we simply turn the generator into a list!\n",
    "# (this will start embedding the sequences!)\n",
    "# Needs certain amount of GPU RAM, if not sufficient CPU is used (slower)\n",
    "aa_embeddings = list(aa_embeddings)"
   ]
  },
  {
   "cell_type": "code",
   "execution_count": null,
   "metadata": {},
   "outputs": [],
   "source": [
    "# Print Shape of Amino Acid Level Embedding\n",
    "print(\"amino acid level embeddings object shape:\")\n",
    "print(\"o) 3 dimensional list of a number of <len(sequences)> embedding matrices with 1024 rows and <len(seq)> columns\") #\n",
    "print(f\"o) 1st D (number of sequences)\\t{len(aa_embeddings)}\")\n",
    "print(\"o) 2nd D (sequence length)\\tdepending on sequence\")\n",
    "print(f\"o) 3rd D (embedding dimensions)\\t{len(aa_embeddings[0][0])} (constant)\")"
   ]
  },
  {
   "cell_type": "code",
   "execution_count": null,
   "metadata": {},
   "outputs": [],
   "source": [
    "# Compute Protein Level Embedding\n",
    "protein_embeddings = [ProtTransBertBFDEmbedder.reduce_per_protein(e) for e in aa_embeddings]\n",
    "# mean of amino acid level vectors"
   ]
  },
  {
   "cell_type": "code",
   "execution_count": null,
   "metadata": {},
   "outputs": [],
   "source": [
    "# Print Shape of Protein Level Embedding\n",
    "print(\"protein level embeddings-object shape:\")\n",
    "print(\"o) 2 dimensional list of <len(sequences)> embedding vectors with 1024 entries\")\n",
    "print(f\"o) 1st D (number of sequences)\\t{len(protein_embeddings)}\")\n",
    "print(f\"o) 2nd D (embedding dimensions)\\t{len(protein_embeddings[0])} (constant)\")"
   ]
  },
  {
   "cell_type": "code",
   "execution_count": null,
   "metadata": {},
   "outputs": [],
   "source": [
    "# Print Summary of Embedding Shapes:  Sequence | AA Level Embedding | Protein Level Embedding\n",
    "for i, (per_amino_acid, per_protein) in enumerate(zip(aa_embeddings, protein_embeddings)):\n",
    "    print(f\"Protein {i+1}\\t{per_amino_acid.shape}\\t{per_protein.shape}\")"
   ]
  },
  {
   "cell_type": "markdown",
   "metadata": {},
   "source": [
    "## o) Projecting high dimensional embedding space to a 3D space\n",
    "see <project_visualize_pipeline_embeddings.ipynb> (Bio-embeddings GitHub)\n"
   ]
  },
  {
   "cell_type": "code",
   "execution_count": null,
   "metadata": {},
   "outputs": [],
   "source": [
    "# Configure tsne options\n",
    "options = {\n",
    "    'perplexity': 3, # Low perplexity values (e.g., 3) cause t-SNE to focus more on preserving the local structure of the data (high, e.g. 30).\n",
    "    'n_iter': 500 # number of iterations for the tsne algorithm\n",
    "}\n",
    "\n",
    "# Apply TSNE Projection \n",
    "projected_p_embedding = tsne_reduce(protein_embeddings, **options) # list\n",
    "\n",
    "# Display Projected Embedding (from 1024 dimensional (Protein Level) vectors to 3 dimensional coordinate vectors)\n",
    "print(f\"\\nShape of projected protein level embedding: {projected_p_embedding.shape}\\n\")\n",
    "for i,embedding in enumerate(projected_p_embedding[:3]): # first 3\n",
    "    print(f\"Protein {i+1}\\t{embedding}\")\n",
    "print(\". . .\")\n",
    "for i,embedding in enumerate(projected_p_embedding[-3:]): # last 3\n",
    "    print(f\"Protein {i+len(projected_p_embedding)-2}\\t{embedding}\")"
   ]
  },
  {
   "cell_type": "markdown",
   "metadata": {},
   "source": [
    "## o) Visualization of the Data\n",
    "see <project_visualize_pipeline_embeddings.ipynb> (Bio-embeddings GitHub)\n"
   ]
  },
  {
   "cell_type": "code",
   "execution_count": null,
   "metadata": {},
   "outputs": [],
   "source": [
    "import matplotlib.pyplot as plt\n",
    "from mpl_toolkits.mplot3d import Axes3D\n",
    "import numpy as np\n",
    "\n",
    "# Assuming your data is stored in a variable called 'data'\n",
    "# Replace this with your actual data\n",
    "\n",
    "# Create a 3D scatter plot\n",
    "fig = plt.figure()\n",
    "ax = fig.add_subplot(111, projection='3d')\n",
    "\n",
    "# Extract x, y, and z coordinates from the data\n",
    "x = data[:, 0]\n",
    "y = data[:, 1]\n",
    "z = data[:, 2]\n",
    "\n",
    "# Plot the points\n",
    "ax.scatter(x, y, z)\n",
    "\n",
    "# Set labels for each axis\n",
    "ax.set_xlabel('X Label')\n",
    "ax.set_ylabel('Y Label')\n",
    "ax.set_zlabel('Z Label')\n",
    "\n",
    "# Show the plot\n",
    "plt.show()"
   ]
  },
  {
   "cell_type": "code",
   "execution_count": null,
   "metadata": {},
   "outputs": [],
   "source": [
    "import plotly.express as px\n",
    "from sklearn.decomposition import PCA\n",
    "\n",
    "df = px.data.iris()\n",
    "X = df[['sepal_length', 'sepal_width', 'petal_length', 'petal_width']]\n",
    "\n",
    "pca = PCA(n_components=3)\n",
    "components = pca.fit_transform(X)\n",
    "\n",
    "total_var = pca.explained_variance_ratio_.sum() * 100\n",
    "\n",
    "fig = px.scatter_3d(\n",
    "    components, x=0, y=1, z=2, color=df['species'],\n",
    "    title=f'Total Explained Variance: {total_var:.2f}%',\n",
    "    labels={'0': 'PC 1', '1': 'PC 2', '2': 'PC 3'}\n",
    ")\n",
    "fig.show()"
   ]
  },
  {
   "cell_type": "markdown",
   "metadata": {},
   "source": [
    "## o) Split the Data"
   ]
  },
  {
   "cell_type": "code",
   "execution_count": null,
   "metadata": {},
   "outputs": [],
   "source": [
    "# Split the data\n",
    "X_train, X_test, y_train, y_test = train_test_split(X, y, test_size=0.2, random_state=42, stratify=y)"
   ]
  },
  {
   "cell_type": "markdown",
   "metadata": {},
   "source": [
    "## o) Train a Classifier on the Training Set"
   ]
  },
  {
   "cell_type": "code",
   "execution_count": null,
   "metadata": {},
   "outputs": [],
   "source": [
    "# Define the LDA classifier\n",
    "\"\"\"Add model object\"\"\"\n",
    "\n",
    "# Ttrain the classifier (modelfitting)\n",
    "\"\"\"<model>.fit(X_train, y_train)\"\"\""
   ]
  },
  {
   "cell_type": "markdown",
   "metadata": {},
   "source": [
    "## o) Prediction on the Validation Set & Accuracy"
   ]
  },
  {
   "cell_type": "code",
   "execution_count": null,
   "metadata": {},
   "outputs": [],
   "source": [
    "# Use your model to make a prediction on the test data\n",
    "\"\"\"y_pred = <model>.predict(X_test)\"\"\"\n",
    "\n",
    "# Compute accuracy of the model\n",
    "accuracy = accuracy_score(y_test, y_pred)\n",
    "print(\"Accuracy: {}\".format(round(accuracy, 2)))"
   ]
  },
  {
   "cell_type": "markdown",
   "metadata": {},
   "source": [
    "## o) Visualization/Plot of Decision Boundaries (?)"
   ]
  },
  {
   "cell_type": "markdown",
   "metadata": {},
   "source": [
    "---\n",
    "# Older Version of Notebook"
   ]
  },
  {
   "cell_type": "code",
   "execution_count": null,
   "metadata": {},
   "outputs": [],
   "source": [
    "# Step 1: Import the necessary libraries\n",
    "import os\n",
    "import csv\n",
    "import numpy as np\n",
    "import pandas as pd\n",
    "import matplotlib.pyplot as plt\n",
    "from Bio import SeqIO\n",
    "from sklearn.model_selection import train_test_split\n",
    "from sklearn.preprocessing import StandardScaler\n",
    "from sklearn.linear_model import LogisticRegression\n",
    "from sklearn.metrics import accuracy_score"
   ]
  },
  {
   "cell_type": "code",
   "execution_count": null,
   "metadata": {},
   "outputs": [],
   "source": [
    "# Step 2: Load your dataset into a pandas DataFrame\n",
    "df = pd.read_csv(\"/home/dinglemittens/SoftwareProject/VOGDB/vog.members.tsv\",sep='\\t', header=0)\n",
    "# df = pd.read_csv(\"VOGDB/test.tsv\",sep='\\t', header=0)\n",
    "print(df)"
   ]
  },
  {
   "cell_type": "code",
   "execution_count": null,
   "metadata": {},
   "outputs": [],
   "source": [
    "# Step 3: Preprocess your data\n",
    "\"\"\"Next step is to pick out the relevant categories in my dataframe: The VOG numbers (labels and their \n",
    "corresponding collections of ProteinIDs (features). In addition I must convert each ID to it´s sequence by using\n",
    "the fasta files. \n",
    "For the scikit split functoin I need Feature set X and label set y (with redundant labels) of same size.\n",
    "By now I have my df ordered in such a way that each label has a list of proteins,\n",
    "but I need the resolve them such that I have a big list of proteins each added with a label.\n",
    "(Analogy: By now I have containers of balls (proteins/features), I know their label (#VOG/container), \n",
    "because they are seperated from other balls through the container. To continue I need to merge all \n",
    "the balls of all containers in a pool, before that I label them with the container number. This pool\n",
    "can now be split 2 : 8 in test and training set. By stratifying (use as parameter) I can inherit the information \n",
    "of the frequency distribution of balls from a certain container relative to all balls into the two sets (If all\n",
    "Ball of container 1 make up 10% of the total number of balls, then in the teset and training set will make up\n",
    "10% of all balls in each of the two sets)).\n",
    "Next we don´t want only our features as single strings (sequences) but as numerical vectors, where each\n",
    "dimension of the vector is an amino acid. The algorithm needs numerical values for learning patterns.\n",
    "The most straigt forward way would be a 1hot encoding, i.e. one feature would be a vector of vectors of \n",
    "length 20, 19 zeros and 1 one (depending on which letter is considered). We won´t do hot1 embedding but another one.\"\"\"\n",
    "\n",
    "# select interval for subset (from VOGa to VOGb) 1 - 38.161\n",
    "end = df.shape[0] # last vog\n",
    "\n",
    "a = 1\n",
    "b = 180\n",
    "\n",
    "features= df['ProteinIDs'].str.split(',').iloc[a-1:b] # each row a VOGs collection of proteins\n",
    "labels = df['#GroupName'].iloc[a-1:b]\n",
    "\n",
    "print(\"features:\\n\",features, \"\\n\")\n",
    "print(\"labels:\\n\", labels, \"\\n\")\n",
    "\n",
    "X=[]\n",
    "y=[]\n",
    "for i in range(len(features)): # for each VOG\n",
    "    # id2seqvec = vog2fasta_dict(labels[i])\n",
    "    for j in range(len(features.iloc[i])): # for each VOGs proteinIDs\n",
    "        y.append(labels[i])\n",
    "        X.append(\"add function here that turns ProteinID into sequence embedding\")\n",
    "\n",
    "print(\"X:\\n\",X[:8], \"...\\n\")\n",
    "print(\"y:\\n\",y[:8], \"...\\n\")"
   ]
  },
  {
   "cell_type": "code",
   "execution_count": null,
   "metadata": {},
   "outputs": [],
   "source": [
    "# Step 4: Split your data into training and testing sets\n",
    "X_train, X_test, y_train, y_test = train_test_split(X, y, test_size=0.2, random_state=42, stratify=y)\n",
    "\n",
    "print(\"X_train:\\n\", X_train[:8], \"...\\n\")\n",
    "print(\"y_train:\\n\", y_train[:8], \"...\\n\")\n",
    "print(\"X_test:\\n\", X_test[:8], \"...\\n\")\n",
    "print(\"y_test:\\n\", y_test[:8], \"...\\n\")\n",
    "\n",
    "\n",
    "\n",
    "\n",
    "\n"
   ]
  },
  {
   "cell_type": "code",
   "execution_count": null,
   "metadata": {},
   "outputs": [],
   "source": [
    "# Step 5: Choose a machine learning algorithm to use\n",
    "model = LogisticRegression()"
   ]
  },
  {
   "cell_type": "code",
   "execution_count": null,
   "metadata": {},
   "outputs": [],
   "source": [
    "\n",
    "# Step 6: Train the model on the training data\n",
    "model.fit(X_train, y_train)"
   ]
  },
  {
   "cell_type": "code",
   "execution_count": null,
   "metadata": {},
   "outputs": [],
   "source": [
    "proteinids = X_train.loc[:, 'ProteinIDs']\n",
    "new_df = pd.DataFrame({'ProteinIDs': proteinids})\n",
    "new_df.to_excel('./vog_proteins.xlsx', index=False)\n",
    "\n",
    "new_df = new_df['ProteinIDs'].str.split(',', expand=True)\n",
    "print(new_df)\n"
   ]
  },
  {
   "cell_type": "code",
   "execution_count": null,
   "metadata": {},
   "outputs": [],
   "source": [
    "\n",
    "# Step 7: Evaluate the model's performance on the testing data\n",
    "y_pred = model.predict(X_test)\n",
    "accuracy = accuracy_score(y_test, y_pred)\n",
    "print('Accuracy:', accuracy)"
   ]
  },
  {
   "cell_type": "code",
   "execution_count": null,
   "metadata": {},
   "outputs": [],
   "source": [
    "# Step 8: Tune the model's hyperparameters to improve its performance\n",
    "# For example, you could use GridSearchCV to search over a range of hyperparameters"
   ]
  },
  {
   "cell_type": "code",
   "execution_count": null,
   "metadata": {},
   "outputs": [],
   "source": [
    "\n",
    "# Step 9: Use the model to make predictions on new data\n",
    "# For example, you could use model.predict(new_data) to make predictions on new data"
   ]
  }
 ],
 "metadata": {
  "kernelspec": {
   "display_name": "Python 3",
   "language": "python",
   "name": "python3"
  },
  "language_info": {
   "codemirror_mode": {
    "name": "ipython",
    "version": 3
   },
   "file_extension": ".py",
   "mimetype": "text/x-python",
   "name": "python",
   "nbconvert_exporter": "python",
   "pygments_lexer": "ipython3",
   "version": "3.8.18"
  }
 },
 "nbformat": 4,
 "nbformat_minor": 2
}
