{
 "cells": [
  {
   "cell_type": "markdown",
   "metadata": {},
   "source": [
    "# Software Projekt \n",
    "## 2023, Klaus Hartmann-Baruffi, Fabio Pfaehler"
   ]
  },
  {
   "cell_type": "code",
   "execution_count": null,
   "metadata": {},
   "outputs": [],
   "source": [
    "# Import libraries\n",
    "import numpy as np\n",
    "import pandas as pd\n",
    "import matplotlib.pyplot as plt"
   ]
  },
  {
   "cell_type": "markdown",
   "metadata": {},
   "source": [
    "## 1) Load Data, Choose a Subset\n",
    "\n",
    "Our aim is to use shallow learners, hence using the whole dataset (38161 vog groups/instances) is not feasable and we take only a subset to work with."
   ]
  },
  {
   "cell_type": "code",
   "execution_count": null,
   "metadata": {},
   "outputs": [],
   "source": [
    "# Load data\n",
    "df = pd.read_csv(\"/home/dinglemittens/SoftwareProject/VOGDB/vog.members.tsv\",sep='\\t', header=0)\n",
    "print(\"dataset shape: {}\\n\".format(df.shape))\n",
    "\n",
    "# Choose subset from vog \"start\" to vog \"end\"\n",
    "start = 5\n",
    "end = 19\n",
    "subset = df.iloc[start-1 : end]\n",
    "print(subset.iloc[:3])"
   ]
  },
  {
   "cell_type": "markdown",
   "metadata": {},
   "source": [
    "## 2) Generate Feature- and Label-Vectors\n",
    "\n",
    "Number of labels/classes (VOG groups) = size of the subset\n",
    "Number of features/feature dimensions (protein IDs/sequences) = size of the subset * number of proteins per VOG * length of the proteinsequence * 20 \n",
    ", where 20 reflects the number of aminoacids in a 1-hot-encoding, since we can´t feed the model with string-characters."
   ]
  },
  {
   "cell_type": "code",
   "execution_count": null,
   "metadata": {},
   "outputs": [],
   "source": [
    "# Convert unflattened labels (#GroupName) and features (ProteinIDs) into lists\n",
    "group_names = subset[\"#GroupName\"].tolist()\n",
    "protein_ids = subset[\"ProteinIDs\"].tolist()\n",
    "\n",
    "# Generate flattened feature(X)- and label(y)-vectors\n",
    "X=[]\n",
    "y=[]\n",
    "for group in group_names:\n",
    "    for per_group_ids in protein_ids:\n",
    "        for protein_id in per_group_ids.split(\",\"): # note: maybe change iterator names (confusing; we have the df ProteinIDs column which contains collections of protein IDs per group, so ProteinIDs contains protein ids)\n",
    "            y.append(int(group.replace(\"VOG\",\"\")))\n",
    "            X.append(protein_id)"
   ]
  },
  {
   "cell_type": "markdown",
   "metadata": {},
   "source": [
    "## 3) Generate Bio-Embeddings\n",
    "\n",
    "As we highlited in the previous step, the dimensions, - complexity of our feature space - , are extraordinary high, we need to reduce the feature size. For this purpose we will use so called protein- or bio-embeddings to ..."
   ]
  },
  {
   "cell_type": "code",
   "execution_count": null,
   "metadata": {},
   "outputs": [],
   "source": [
    "# Generate protein embeddings using the bio-embeddings module\n",
    "\"\"\"Add code for the use of bio-embeddings\"\"\""
   ]
  },
  {
   "cell_type": "markdown",
   "metadata": {},
   "source": [
    "## o) Visualization of the Data"
   ]
  },
  {
   "cell_type": "markdown",
   "metadata": {},
   "source": [
    "## o) Split the Data"
   ]
  },
  {
   "cell_type": "code",
   "execution_count": null,
   "metadata": {},
   "outputs": [],
   "source": [
    "# Split the data\n",
    "X_train, X_test, y_train, y_test = train_test_split(X, y, test_size=0.2, random_state=42, stratify=y)"
   ]
  },
  {
   "cell_type": "markdown",
   "metadata": {},
   "source": [
    "## o) Train a Classifier on the Training Set"
   ]
  },
  {
   "cell_type": "code",
   "execution_count": null,
   "metadata": {},
   "outputs": [],
   "source": [
    "# Define the LDA classifier\n",
    "\"\"\"Add model object\"\"\"\n",
    "\n",
    "# Ttrain the classifier (modelfitting)\n",
    "\"\"\"<model>.fit(X_train, y_train)\"\"\""
   ]
  },
  {
   "cell_type": "markdown",
   "metadata": {},
   "source": [
    "## o) Prediction on the Validation Set & Accuracy"
   ]
  },
  {
   "cell_type": "code",
   "execution_count": null,
   "metadata": {},
   "outputs": [],
   "source": [
    "# Use your model to make a prediction on the test data\n",
    "\"\"\"y_pred = <model>.predict(X_test)\"\"\"\n",
    "\n",
    "# Compute accuracy of the model\n",
    "accuracy = accuracy_score(y_test, y_pred)\n",
    "print(\"Accuracy: {}\".format(round(accuracy, 2)))"
   ]
  },
  {
   "cell_type": "markdown",
   "metadata": {},
   "source": [
    "## o) Visualization/Plot of Decision Boundaries (?)"
   ]
  },
  {
   "cell_type": "markdown",
   "metadata": {},
   "source": [
    "# Old Notebook"
   ]
  },
  {
   "cell_type": "code",
   "execution_count": null,
   "metadata": {},
   "outputs": [],
   "source": [
    "# Step 1: Import the necessary libraries\n",
    "import os\n",
    "import csv\n",
    "import numpy as np\n",
    "import pandas as pd\n",
    "import matplotlib.pyplot as plt\n",
    "from Bio import SeqIO\n",
    "from sklearn.model_selection import train_test_split\n",
    "from sklearn.preprocessing import StandardScaler\n",
    "from sklearn.linear_model import LogisticRegression\n",
    "from sklearn.metrics import accuracy_score"
   ]
  },
  {
   "cell_type": "code",
   "execution_count": null,
   "metadata": {},
   "outputs": [],
   "source": [
    "# Step 2: Load your dataset into a pandas DataFrame\n",
    "df = pd.read_csv(\"/home/dinglemittens/SoftwareProject/VOGDB/vog.members.tsv\",sep='\\t', header=0)\n",
    "# df = pd.read_csv(\"VOGDB/test.tsv\",sep='\\t', header=0)\n",
    "print(df)"
   ]
  },
  {
   "cell_type": "code",
   "execution_count": null,
   "metadata": {},
   "outputs": [],
   "source": [
    "# Step 3: Preprocess your data\n",
    "\"\"\"Next step is to pick out the relevant categories in my dataframe: The VOG numbers (labels and their \n",
    "corresponding collections of ProteinIDs (features). In addition I must convert each ID to it´s sequence by using\n",
    "the fasta files. \n",
    "For the scikit split functoin I need Feature set X and label set y (with redundant labels) of same size.\n",
    "By now I have my df ordered in such a way that each label has a list of proteins,\n",
    "but I need the resolve them such that I have a big list of proteins each added with a label.\n",
    "(Analogy: By now I have containers of balls (proteins/features), I know their label (#VOG/container), \n",
    "because they are seperated from other balls through the container. To continue I need to merge all \n",
    "the balls of all containers in a pool, before that I label them with the container number. This pool\n",
    "can now be split 2 : 8 in test and training set. By stratifying (use as parameter) I can inherit the information \n",
    "of the frequency distribution of balls from a certain container relative to all balls into the two sets (If all\n",
    "Ball of container 1 make up 10% of the total number of balls, then in the teset and training set will make up\n",
    "10% of all balls in each of the two sets)).\n",
    "Next we don´t want only our features as single strings (sequences) but as numerical vectors, where each\n",
    "dimension of the vector is an amino acid. The algorithm needs numerical values for learning patterns.\n",
    "The most straigt forward way would be a 1hot encoding, i.e. one feature would be a vector of vectors of \n",
    "length 20, 19 zeros and 1 one (depending on which letter is considered). We won´t do hot1 embedding but another one.\"\"\"\n",
    "\n",
    "# select interval for subset (from VOGa to VOGb) 1 - 38.161\n",
    "end = df.shape[0] # last vog\n",
    "\n",
    "a = 1\n",
    "b = 180\n",
    "\n",
    "features= df['ProteinIDs'].str.split(',').iloc[a-1:b] # each row a VOGs collection of proteins\n",
    "labels = df['#GroupName'].iloc[a-1:b]\n",
    "\n",
    "print(\"features:\\n\",features, \"\\n\")\n",
    "print(\"labels:\\n\", labels, \"\\n\")\n",
    "\n",
    "X=[]\n",
    "y=[]\n",
    "for i in range(len(features)): # for each VOG\n",
    "    # id2seqvec = vog2fasta_dict(labels[i])\n",
    "    for j in range(len(features.iloc[i])): # for each VOGs proteinIDs\n",
    "        y.append(labels[i])\n",
    "        X.append(\"add function here that turns ProteinID into sequence embedding\")\n",
    "\n",
    "print(\"X:\\n\",X[:8], \"...\\n\")\n",
    "print(\"y:\\n\",y[:8], \"...\\n\")"
   ]
  },
  {
   "cell_type": "code",
   "execution_count": null,
   "metadata": {},
   "outputs": [],
   "source": [
    "# Step 4: Split your data into training and testing sets\n",
    "X_train, X_test, y_train, y_test = train_test_split(X, y, test_size=0.2, random_state=42, stratify=y)\n",
    "\n",
    "print(\"X_train:\\n\", X_train[:8], \"...\\n\")\n",
    "print(\"y_train:\\n\", y_train[:8], \"...\\n\")\n",
    "print(\"X_test:\\n\", X_test[:8], \"...\\n\")\n",
    "print(\"y_test:\\n\", y_test[:8], \"...\\n\")\n",
    "\n",
    "\n",
    "\n",
    "\n",
    "\n"
   ]
  },
  {
   "cell_type": "code",
   "execution_count": null,
   "metadata": {},
   "outputs": [],
   "source": [
    "# Step 5: Choose a machine learning algorithm to use\n",
    "model = LogisticRegression()"
   ]
  },
  {
   "cell_type": "code",
   "execution_count": null,
   "metadata": {},
   "outputs": [],
   "source": [
    "\n",
    "# Step 6: Train the model on the training data\n",
    "model.fit(X_train, y_train)"
   ]
  },
  {
   "cell_type": "code",
   "execution_count": null,
   "metadata": {},
   "outputs": [],
   "source": [
    "proteinids = X_train.loc[:, 'ProteinIDs']\n",
    "new_df = pd.DataFrame({'ProteinIDs': proteinids})\n",
    "new_df.to_excel('./vog_proteins.xlsx', index=False)\n",
    "\n",
    "new_df = new_df['ProteinIDs'].str.split(',', expand=True)\n",
    "print(new_df)\n"
   ]
  },
  {
   "cell_type": "code",
   "execution_count": null,
   "metadata": {},
   "outputs": [],
   "source": [
    "\n",
    "# Step 7: Evaluate the model's performance on the testing data\n",
    "y_pred = model.predict(X_test)\n",
    "accuracy = accuracy_score(y_test, y_pred)\n",
    "print('Accuracy:', accuracy)"
   ]
  },
  {
   "cell_type": "code",
   "execution_count": null,
   "metadata": {},
   "outputs": [],
   "source": [
    "# Step 8: Tune the model's hyperparameters to improve its performance\n",
    "# For example, you could use GridSearchCV to search over a range of hyperparameters"
   ]
  },
  {
   "cell_type": "code",
   "execution_count": null,
   "metadata": {},
   "outputs": [],
   "source": [
    "\n",
    "# Step 9: Use the model to make predictions on new data\n",
    "# For example, you could use model.predict(new_data) to make predictions on new data"
   ]
  }
 ],
 "metadata": {
  "kernelspec": {
   "display_name": "Python 3",
   "language": "python",
   "name": "python3"
  },
  "language_info": {
   "codemirror_mode": {
    "name": "ipython",
    "version": 3
   },
   "file_extension": ".py",
   "mimetype": "text/x-python",
   "name": "python",
   "nbconvert_exporter": "python",
   "pygments_lexer": "ipython3",
   "version": "3.8.18"
  }
 },
 "nbformat": 4,
 "nbformat_minor": 2
}
